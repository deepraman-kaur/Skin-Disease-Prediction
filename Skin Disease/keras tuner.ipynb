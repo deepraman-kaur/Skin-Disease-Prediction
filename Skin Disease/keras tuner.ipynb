{
 "cells": [
  {
   "cell_type": "code",
   "execution_count": 23,
   "id": "a29d102b",
   "metadata": {},
   "outputs": [],
   "source": [
    "import tensorflow as tf\n",
    "from tensorflow import keras\n",
    "from keras.models import Sequential\n",
    "from keras import preprocessing\n",
    "from keras.preprocessing import image\n",
    "from keras.preprocessing.image import ImageDataGenerator\n",
    "from keras import layers\n",
    "from keras.layers import Conv2D\n",
    "from keras.layers import MaxPool2D\n",
    "from keras.layers import Flatten\n",
    "from keras.layers import Dense\n",
    "import numpy as np\n",
    "from keras.layers import Convolution2D ,Activation, Conv2D,MaxPooling2D,Flatten,Dense,Dropout\n"
   ]
  },
  {
   "cell_type": "code",
   "execution_count": 24,
   "id": "31d19c99",
   "metadata": {},
   "outputs": [],
   "source": [
    "train_dir = r'C:\\Users\\mayan\\Downloads\\New Datasets\\skin disease kushal\\new\\train'\n",
    "test_dir = r'C:\\Users\\mayan\\Downloads\\New Datasets\\skin disease kushal\\new\\test'"
   ]
  },
  {
   "cell_type": "code",
   "execution_count": 25,
   "id": "f74ae667",
   "metadata": {},
   "outputs": [],
   "source": [
    "train_datagen = ImageDataGenerator(rescale=1./255,\n",
    "                          shear_range=0.2,\n",
    "                          zoom_range=0.2,\n",
    "                          horizontal_flip=True,\n",
    "                          rotation_range=0.2,\n",
    "                          width_shift_range=0.0,\n",
    "                          height_shift_range=0.0)\n",
    "\n",
    "test_datagen = ImageDataGenerator(rescale=1./255)\n"
   ]
  },
  {
   "cell_type": "code",
   "execution_count": 26,
   "id": "ac316973",
   "metadata": {},
   "outputs": [
    {
     "name": "stdout",
     "output_type": "stream",
     "text": [
      "Found 21726 images belonging to 10 classes.\n",
      "Found 5427 images belonging to 10 classes.\n"
     ]
    }
   ],
   "source": [
    "train_generator = train_datagen.flow_from_directory(train_dir,\n",
    "                                         target_size=(64,64),\n",
    "                                         batch_size = 32,\n",
    "                                         class_mode = 'categorical')\n",
    "\n",
    "test_generator = test_datagen.flow_from_directory(test_dir,\n",
    "                                         target_size=(64,64),\n",
    "                                         batch_size = 32,\n",
    "                                         class_mode = 'categorical')\n",
    "\n"
   ]
  },
  {
   "cell_type": "code",
   "execution_count": 27,
   "id": "963e2ce5",
   "metadata": {},
   "outputs": [],
   "source": [
    "def build_model(hp):  # random search passes this hyperparameter() object \n",
    "    model = keras.models.Sequential()\n",
    "\n",
    "    model.add(Conv2D(hp.Int('input_units',\n",
    "                                min_value=32,\n",
    "                                max_value=256,\n",
    "                                step=32), (3, 3), input_shape=(64,64,3)))\n",
    "\n",
    "    model.add(Activation('relu'))\n",
    "    model.add(MaxPooling2D(pool_size=(2, 2)))\n",
    "\n",
    "    for i in range(hp.Int('n_layers', 1, 2)):  # adding variation of layers.\n",
    "        model.add(Conv2D(hp.Int(f'conv_{i}_units',\n",
    "                                min_value=32,\n",
    "                                max_value=256,\n",
    "                                step=32), (3, 3)))\n",
    "        model.add(Activation('relu'))\n",
    "    model.add(MaxPooling2D(pool_size=(2, 2)))\n",
    "\n",
    "    model.add(Flatten())\n",
    "    for i in range(hp.Int('n_connections', 1, 2)):\n",
    "        model.add(Dense(hp.Choice(f'n_nodes',\n",
    "                                  values=[128, 256, 512])))\n",
    "        model.add(Activation('relu'))\n",
    "    model.add(Dense(10))\n",
    "    model.add(Activation(\"softmax\"))\n",
    "\n",
    "    model.compile(optimizer=\"adam\",\n",
    "                  loss=\"categorical_crossentropy\",\n",
    "                  metrics=[\"accuracy\"])\n",
    "\n",
    "    return model"
   ]
  },
  {
   "cell_type": "code",
   "execution_count": 28,
   "id": "6d15707e",
   "metadata": {},
   "outputs": [
    {
     "data": {
      "text/plain": [
       "{'1. Eczema 1677': 0,\n",
       " '10. Warts Molluscum and other Viral Infections - 2103': 1,\n",
       " '2. Melanoma 15.75k': 2,\n",
       " '3. Atopic Dermatitis - 1.25k': 3,\n",
       " '4. Basal Cell Carcinoma (BCC) 3323': 4,\n",
       " '5. Melanocytic Nevi (NV) - 7970': 5,\n",
       " '6. Benign Keratosis-like Lesions (BKL) 2624': 6,\n",
       " '7. Psoriasis pictures Lichen Planus and related diseases - 2k': 7,\n",
       " '8. Seborrheic Keratoses and other Benign Tumors - 1.8k': 8,\n",
       " '9. Tinea Ringworm Candidiasis and other Fungal Infections - 1.7k': 9}"
      ]
     },
     "execution_count": 28,
     "metadata": {},
     "output_type": "execute_result"
    }
   ],
   "source": [
    "train_generator.class_indices"
   ]
  },
  {
   "cell_type": "code",
   "execution_count": 29,
   "id": "9e39787a",
   "metadata": {},
   "outputs": [],
   "source": [
    "import keras_tuner as kt\n",
    "from keras_tuner.engine.hyperparameters import HyperParameters"
   ]
  },
  {
   "cell_type": "code",
   "execution_count": 30,
   "id": "60cd1db3",
   "metadata": {},
   "outputs": [],
   "source": [
    "# pip install keras_tuner"
   ]
  },
  {
   "cell_type": "code",
   "execution_count": 31,
   "id": "deced89f",
   "metadata": {},
   "outputs": [
    {
     "name": "stdout",
     "output_type": "stream",
     "text": [
      "INFO:tensorflow:Reloading Oracle from existing project Keras skin disease\\Keras tuner skin\\oracle.json\n",
      "INFO:tensorflow:Reloading Tuner from Keras skin disease\\Keras tuner skin\\tuner0.json\n"
     ]
    }
   ],
   "source": [
    "#creating a tuner object\n",
    "tuner = kt.RandomSearch(\n",
    "    build_model,\n",
    "    objective='val_accuracy',\n",
    "    max_trials=2,  # how many model variations to test?\n",
    "    executions_per_trial=1,  # how many trials per variation? (same model could perform differently)\n",
    "    directory='Keras skin disease',\n",
    "    project_name='Keras tuner skin')"
   ]
  },
  {
   "cell_type": "code",
   "execution_count": 32,
   "id": "adb4897d",
   "metadata": {},
   "outputs": [
    {
     "name": "stdout",
     "output_type": "stream",
     "text": [
      "INFO:tensorflow:Oracle triggered exit\n"
     ]
    }
   ],
   "source": [
    "tuner.search(train_generator,\n",
    "             epochs=3,\n",
    "             validation_data=test_generator)"
   ]
  },
  {
   "cell_type": "code",
   "execution_count": 33,
   "id": "6b7b2c6c",
   "metadata": {},
   "outputs": [
    {
     "data": {
      "text/plain": [
       "{'input_units': 64,\n",
       " 'n_layers': 1,\n",
       " 'conv_0_units': 96,\n",
       " 'n_connections': 2,\n",
       " 'n_nodes': 512,\n",
       " 'conv_1_units': 32}"
      ]
     },
     "execution_count": 33,
     "metadata": {},
     "output_type": "execute_result"
    }
   ],
   "source": [
    "tuner.get_best_hyperparameters()[0].values"
   ]
  },
  {
   "cell_type": "code",
   "execution_count": 34,
   "id": "7c4fd5ff",
   "metadata": {},
   "outputs": [],
   "source": [
    "model = tuner.get_best_models(num_models=1)[0]"
   ]
  },
  {
   "cell_type": "code",
   "execution_count": 35,
   "id": "a8b401fb",
   "metadata": {},
   "outputs": [
    {
     "name": "stdout",
     "output_type": "stream",
     "text": [
      "Model: \"sequential\"\n",
      "_________________________________________________________________\n",
      " Layer (type)                Output Shape              Param #   \n",
      "=================================================================\n",
      " conv2d (Conv2D)             (None, 62, 62, 64)        1792      \n",
      "                                                                 \n",
      " activation (Activation)     (None, 62, 62, 64)        0         \n",
      "                                                                 \n",
      " max_pooling2d (MaxPooling2D  (None, 31, 31, 64)       0         \n",
      " )                                                               \n",
      "                                                                 \n",
      " conv2d_1 (Conv2D)           (None, 29, 29, 96)        55392     \n",
      "                                                                 \n",
      " activation_1 (Activation)   (None, 29, 29, 96)        0         \n",
      "                                                                 \n",
      " max_pooling2d_1 (MaxPooling  (None, 14, 14, 96)       0         \n",
      " 2D)                                                             \n",
      "                                                                 \n",
      " flatten (Flatten)           (None, 18816)             0         \n",
      "                                                                 \n",
      " dense (Dense)               (None, 512)               9634304   \n",
      "                                                                 \n",
      " activation_2 (Activation)   (None, 512)               0         \n",
      "                                                                 \n",
      " dense_1 (Dense)             (None, 512)               262656    \n",
      "                                                                 \n",
      " activation_3 (Activation)   (None, 512)               0         \n",
      "                                                                 \n",
      " dense_2 (Dense)             (None, 10)                5130      \n",
      "                                                                 \n",
      " activation_4 (Activation)   (None, 10)                0         \n",
      "                                                                 \n",
      "=================================================================\n",
      "Total params: 9,959,274\n",
      "Trainable params: 9,959,274\n",
      "Non-trainable params: 0\n",
      "_________________________________________________________________\n"
     ]
    }
   ],
   "source": [
    "model.summary()"
   ]
  },
  {
   "cell_type": "code",
   "execution_count": 36,
   "id": "376aa2ab",
   "metadata": {},
   "outputs": [
    {
     "name": "stdout",
     "output_type": "stream",
     "text": [
      "Epoch 4/15\n",
      "679/679 [==============================] - 409s 603ms/step - loss: 0.9878 - accuracy: 0.6235 - val_loss: 1.0271 - val_accuracy: 0.6173\n",
      "Epoch 5/15\n",
      "679/679 [==============================] - 450s 662ms/step - loss: 0.9428 - accuracy: 0.6431 - val_loss: 1.0058 - val_accuracy: 0.6175\n",
      "Epoch 6/15\n",
      "679/679 [==============================] - 421s 620ms/step - loss: 0.8944 - accuracy: 0.6626 - val_loss: 1.0052 - val_accuracy: 0.6342\n",
      "Epoch 7/15\n",
      "679/679 [==============================] - 418s 616ms/step - loss: 0.8519 - accuracy: 0.6773 - val_loss: 0.9661 - val_accuracy: 0.6422\n",
      "Epoch 8/15\n",
      "679/679 [==============================] - 431s 635ms/step - loss: 0.8204 - accuracy: 0.6910 - val_loss: 0.9806 - val_accuracy: 0.6403\n",
      "Epoch 9/15\n",
      "679/679 [==============================] - 400s 590ms/step - loss: 0.7937 - accuracy: 0.6998 - val_loss: 0.9395 - val_accuracy: 0.6508\n",
      "Epoch 10/15\n",
      "679/679 [==============================] - 359s 529ms/step - loss: 0.7521 - accuracy: 0.7174 - val_loss: 0.9856 - val_accuracy: 0.6350\n",
      "Epoch 11/15\n",
      "679/679 [==============================] - 373s 550ms/step - loss: 0.7207 - accuracy: 0.7318 - val_loss: 1.0021 - val_accuracy: 0.6475\n",
      "Epoch 12/15\n",
      "679/679 [==============================] - 365s 538ms/step - loss: 0.6850 - accuracy: 0.7404 - val_loss: 0.9522 - val_accuracy: 0.6639\n",
      "Epoch 13/15\n",
      "679/679 [==============================] - 364s 537ms/step - loss: 0.6542 - accuracy: 0.7540 - val_loss: 0.9184 - val_accuracy: 0.6715\n",
      "Epoch 14/15\n",
      "679/679 [==============================] - 382s 562ms/step - loss: 0.6271 - accuracy: 0.7661 - val_loss: 1.0015 - val_accuracy: 0.6464\n",
      "Epoch 15/15\n",
      "679/679 [==============================] - 439s 647ms/step - loss: 0.6044 - accuracy: 0.7749 - val_loss: 1.0004 - val_accuracy: 0.6685\n"
     ]
    },
    {
     "data": {
      "text/plain": [
       "<keras.callbacks.History at 0x1e508cc60a0>"
      ]
     },
     "execution_count": 36,
     "metadata": {},
     "output_type": "execute_result"
    }
   ],
   "source": [
    "model.fit(train_generator,epochs=15,validation_data=test_generator,initial_epoch=3)"
   ]
  },
  {
   "cell_type": "code",
   "execution_count": 41,
   "id": "4e4bcd41",
   "metadata": {},
   "outputs": [
    {
     "name": "stdout",
     "output_type": "stream",
     "text": [
      "Warts Molluscum and other Viral Infections\n"
     ]
    }
   ],
   "source": [
    "import numpy as np\n",
    "from keras.preprocessing import image\n",
    "test_image = image.load_img(r'C:\\Users\\mayan\\Downloads\\New Datasets\\skin disease kushal\\new\\test\\10. Warts Molluscum and other Viral Infections - 2103\\0_1.jpg', target_size = (64, 64)) # location of image\n",
    "test_image = image.img_to_array(test_image)    # converting to array\n",
    "test_image = np.expand_dims(test_image, axis = 0)  # selecting dimension 1 and batch_size\n",
    "result = model.predict(test_image)\n",
    "class_names = ['Eczema', 'Warts Molluscum and other Viral Infections', 'Melanoma', 'Atopic Dermatitis',\n",
    "               'Basal Cell Carcinoma (BCC)', 'Melanocytic Nevi (NV)', 'Benign Keratosis-like Lesions (BKL)', \n",
    "               'Psoriasis pictures Lichen Planus and related diseases',\n",
    "               'Seborrheic Keratoses and other Benign Tumors', 'Tinea Ringworm Candidiasis and other Fungal Infections']\n",
    "print(class_names[np.argmax(result)])"
   ]
  },
  {
   "cell_type": "code",
   "execution_count": 43,
   "id": "7b95c716",
   "metadata": {},
   "outputs": [],
   "source": [
    "model.save('skin_disease.h5')"
   ]
  },
  {
   "cell_type": "code",
   "execution_count": null,
   "id": "38da3a37",
   "metadata": {},
   "outputs": [],
   "source": []
  },
  {
   "cell_type": "code",
   "execution_count": null,
   "id": "de01cb3c",
   "metadata": {},
   "outputs": [],
   "source": []
  },
  {
   "cell_type": "code",
   "execution_count": null,
   "id": "ad30fbef",
   "metadata": {},
   "outputs": [],
   "source": []
  }
 ],
 "metadata": {
  "kernelspec": {
   "display_name": "Python 3 (ipykernel)",
   "language": "python",
   "name": "python3"
  },
  "language_info": {
   "codemirror_mode": {
    "name": "ipython",
    "version": 3
   },
   "file_extension": ".py",
   "mimetype": "text/x-python",
   "name": "python",
   "nbconvert_exporter": "python",
   "pygments_lexer": "ipython3",
   "version": "3.9.7"
  }
 },
 "nbformat": 4,
 "nbformat_minor": 5
}
